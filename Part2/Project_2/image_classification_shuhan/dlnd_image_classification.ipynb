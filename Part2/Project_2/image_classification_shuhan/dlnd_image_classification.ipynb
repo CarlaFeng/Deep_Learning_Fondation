{
 "cells": [
  {
   "cell_type": "markdown",
   "metadata": {
    "collapsed": true
   },
   "source": [
    "# 图像分类\n",
    "\n",
    "在此项目中，你将对 [CIFAR-10 数据集](https://www.cs.toronto.edu/~kriz/cifar.html) 中的图片进行分类。该数据集包含飞机、猫狗和其他物体。你需要预处理这些图片，然后用所有样本训练一个卷积神经网络。图片需要标准化（normalized），标签需要采用 one-hot 编码。你需要应用所学的知识构建卷积的、最大池化（max pooling）、丢弃（dropout）和完全连接（fully connected）的层。最后，你需要在样本图片上看到神经网络的预测结果。\n",
    "\n",
    "\n",
    "## 获取数据\n",
    "\n",
    "请运行以下单元，以下载 [CIFAR-10 数据集（Python版）](https://www.cs.toronto.edu/~kriz/cifar-10-python.tar.gz)。\n"
   ]
  },
  {
   "cell_type": "code",
   "execution_count": 1,
   "metadata": {},
   "outputs": [
    {
     "name": "stdout",
     "output_type": "stream",
     "text": [
      "All files found!\n"
     ]
    }
   ],
   "source": [
    "\"\"\"\n",
    "DON'T MODIFY ANYTHING IN THIS CELL THAT IS BELOW THIS LINE\n",
    "\"\"\"\n",
    "from urllib.request import urlretrieve\n",
    "from os.path import isfile, isdir\n",
    "from tqdm import tqdm\n",
    "import problem_unittests as tests\n",
    "import tarfile\n",
    "\n",
    "cifar10_dataset_folder_path = 'cifar-10-batches-py'\n",
    "\n",
    "# Use Floyd's cifar-10 dataset if present\n",
    "floyd_cifar10_location = '/input/cifar-10/python.tar.gz'\n",
    "if isfile(floyd_cifar10_location):\n",
    "    tar_gz_path = floyd_cifar10_location\n",
    "else:\n",
    "    tar_gz_path = 'cifar-10-python.tar.gz'\n",
    "\n",
    "class DLProgress(tqdm):\n",
    "    last_block = 0\n",
    "\n",
    "    def hook(self, block_num=1, block_size=1, total_size=None):\n",
    "        self.total = total_size\n",
    "        self.update((block_num - self.last_block) * block_size)\n",
    "        self.last_block = block_num\n",
    "\n",
    "if not isfile(tar_gz_path):\n",
    "    with DLProgress(unit='B', unit_scale=True, miniters=1, desc='CIFAR-10 Dataset') as pbar:\n",
    "        urlretrieve(\n",
    "            'https://www.cs.toronto.edu/~kriz/cifar-10-python.tar.gz',\n",
    "            tar_gz_path,\n",
    "            pbar.hook)\n",
    "\n",
    "if not isdir(cifar10_dataset_folder_path):\n",
    "    with tarfile.open(tar_gz_path) as tar:\n",
    "        tar.extractall()\n",
    "        tar.close()\n",
    "\n",
    "\n",
    "tests.test_folder_path(cifar10_dataset_folder_path)"
   ]
  },
  {
   "cell_type": "markdown",
   "metadata": {},
   "source": [
    "## 探索数据\n",
    "\n",
    "该数据集分成了几部分／批次（batches），以免你的机器在计算时内存不足。CIFAR-10 数据集包含 5 个部分，名称分别为 `data_batch_1`、`data_batch_2`，以此类推。每个部分都包含以下某个类别的标签和图片：\n",
    "\n",
    "* 飞机\n",
    "* 汽车\n",
    "* 鸟类\n",
    "* 猫\n",
    "* 鹿\n",
    "* 狗\n",
    "* 青蛙\n",
    "* 马\n",
    "* 船只\n",
    "* 卡车\n",
    "\n",
    "了解数据集也是对数据进行预测的必经步骤。你可以通过更改 `batch_id` 和 `sample_id` 探索下面的代码单元。`batch_id` 是数据集一个部分的 ID（1 到 5）。`sample_id` 是该部分中图片和标签对（label pair）的 ID。\n",
    "\n",
    "问问你自己：“可能的标签有哪些？”、“图片数据的值范围是多少？”、“标签是按顺序排列，还是随机排列的？”。思考类似的问题，有助于你预处理数据，并使预测结果更准确。\n"
   ]
  },
  {
   "cell_type": "code",
   "execution_count": 2,
   "metadata": {},
   "outputs": [
    {
     "name": "stdout",
     "output_type": "stream",
     "text": [
      "\n",
      "Stats of batch 5:\n",
      "Samples: 10000\n",
      "Label Counts: {0: 1014, 1: 1014, 2: 952, 3: 1016, 4: 997, 5: 1025, 6: 980, 7: 977, 8: 1003, 9: 1022}\n",
      "First 20 Labels: [1, 8, 5, 1, 5, 7, 4, 3, 8, 2, 7, 2, 0, 1, 5, 9, 6, 2, 0, 8]\n",
      "\n",
      "Example of Image 225:\n",
      "Image - Min Value: 5 Max Value: 235\n",
      "Image - Shape: (32, 32, 3)\n",
      "Label - Label Id: 2 Name: bird\n"
     ]
    },
    {
     "data": {
      "image/png": "[encoded data removed]",
      "text/plain": [
       "<matplotlib.figure.Figure at 0x7f64492d2748>"
      ]
     },
     "metadata": {
      "image/png": {
       "height": 250,
       "width": 253
      }
     },
     "output_type": "display_data"
    }
   ],
   "source": [
    "%matplotlib inline\n",
    "%config InlineBackend.figure_format = 'retina'\n",
    "\n",
    "import helper\n",
    "import numpy as np\n",
    "\n",
    "# Explore the dataset\n",
    "batch_id = 5\n",
    "sample_id = 225\n",
    "helper.display_stats(cifar10_dataset_folder_path, batch_id, sample_id)"
   ]
  },
  {
   "cell_type": "markdown",
   "metadata": {},
   "source": [
    "## 实现预处理函数\n",
    "\n",
    "### 标准化\n",
    "\n",
    "在下面的单元中，实现 `normalize` 函数，传入图片数据 `x`，并返回标准化 Numpy 数组。值应该在 0 到 1 的范围内（含 0 和 1）。返回对象应该和 `x` 的形状一样。\n"
   ]
  },
  {
   "cell_type": "code",
   "execution_count": 3,
   "metadata": {},
   "outputs": [
    {
     "name": "stdout",
     "output_type": "stream",
     "text": [
      "Tests Passed\n"
     ]
    }
   ],
   "source": [
    "def normalize(x):\n",
    "    \"\"\"\n",
    "    Normalize a list of sample image data in the range of 0 to 1\n",
    "    : x: List of image data.  The image shape is (32, 32, 3)\n",
    "    : return: Numpy array of normalize data\n",
    "    \"\"\"\n",
    "    # TODO: Implement Function\n",
    "\n",
    "    max_value = np.max(x)\n",
    "    min_value= np.min(x)\n",
    "    \n",
    "    return (x  - min_value) / (max_value -min_value)\n",
    "\n",
    "\n",
    "\"\"\"\n",
    "DON'T MODIFY ANYTHING IN THIS CELL THAT IS BELOW THIS LINE\n",
    "\"\"\"\n",
    "tests.test_normalize(normalize)"
   ]
  },
  {
   "cell_type": "markdown",
   "metadata": {},
   "source": [
    "### One-hot 编码\n",
    "\n",
    "和之前的代码单元一样，你将为预处理实现一个函数。这次，你将实现 `one_hot_encode` 函数。输入，也就是 `x`，是一个标签列表。实现该函数，以返回为 one_hot 编码的 Numpy 数组的标签列表。标签的可能值为 0 到 9。每次调用 `one_hot_encode` 时，对于每个值，one_hot 编码函数应该返回相同的编码。确保将编码映射保存到该函数外面。\n",
    "\n",
    "提示：不要重复发明轮子。\n"
   ]
  },
  {
   "cell_type": "code",
   "execution_count": 4,
   "metadata": {},
   "outputs": [
    {
     "name": "stdout",
     "output_type": "stream",
     "text": [
      "Tests Passed\n"
     ]
    }
   ],
   "source": [
    "def one_hot(i,n_target):\n",
    "    one_hot = np.zeros(n_target)\n",
    "    one_hot[i] = 1\n",
    "    return one_hot\n",
    "\n",
    "def one_hot_encode(x):\n",
    "    \"\"\"\n",
    "    One hot encode a list of sample labels. Return a one-hot encoded vector for each label.\n",
    "    : x: List of sample Labels\n",
    "    : return: Numpy array of one-hot encoded labels\n",
    "    \"\"\"\n",
    "    # TODO: Implement Function\n",
    "    n_target = 10\n",
    "        \n",
    "    return np.array([one_hot(xi,n_target) for xi in x])\n",
    "\n",
    "\n",
    "\"\"\"\n",
    "DON'T MODIFY ANYTHING IN THIS CELL THAT IS BELOW THIS LINE\n",
    "\"\"\"\n",
    "tests.test_one_hot_encode(one_hot_encode)"
   ]
  },
  {
   "cell_type": "markdown",
   "metadata": {},
   "source": [
    "### 随机化数据\n",
    "\n",
    "之前探索数据时，你已经了解到，样本的顺序是随机的。再随机化一次也不会有什么关系，但是对于这个数据集没有必要。\n"
   ]
  },
  {
   "cell_type": "markdown",
   "metadata": {},
   "source": [
    "## 预处理所有数据并保存\n",
    "\n",
    "运行下方的代码单元，将预处理所有 CIFAR-10 数据，并保存到文件中。下面的代码还使用了 10% 的训练数据，用来验证。\n"
   ]
  },
  {
   "cell_type": "code",
   "execution_count": 5,
   "metadata": {
    "collapsed": true
   },
   "outputs": [],
   "source": [
    "\"\"\"\n",
    "DON'T MODIFY ANYTHING IN THIS CELL\n",
    "\"\"\"\n",
    "# Preprocess Training, Validation, and Testing Data\n",
    "helper.preprocess_and_save_data(cifar10_dataset_folder_path, normalize, one_hot_encode)"
   ]
  },
  {
   "cell_type": "markdown",
   "metadata": {},
   "source": [
    "# 检查点\n",
    "\n",
    "这是你的第一个检查点。如果你什么时候决定再回到该记事本，或需要重新启动该记事本，你可以从这里开始。预处理的数据已保存到本地。\n"
   ]
  },
  {
   "cell_type": "code",
   "execution_count": 6,
   "metadata": {
    "collapsed": true
   },
   "outputs": [],
   "source": [
    "\"\"\"\n",
    "DON'T MODIFY ANYTHING IN THIS CELL\n",
    "\"\"\"\n",
    "import pickle\n",
    "import problem_unittests as tests\n",
    "import helper\n",
    "\n",
    "# Load the Preprocessed Validation data\n",
    "valid_features, valid_labels = pickle.load(open('preprocess_validation.p', mode='rb'))"
   ]
  },
  {
   "cell_type": "markdown",
   "metadata": {},
   "source": [
    "## 构建网络\n",
    "\n",
    "对于该神经网络，你需要将每层都构建为一个函数。你看到的大部分代码都位于函数外面。要更全面地测试你的代码，我们需要你将每层放入一个函数中。这样使我们能够提供更好的反馈，并使用我们的统一测试检测简单的错误，然后再提交项目。\n",
    "\n",
    ">**注意**：如果你觉得每周很难抽出足够的时间学习这门课程，我们为此项目提供了一个小捷径。对于接下来的几个问题，你可以使用 [TensorFlow Layers](https://www.tensorflow.org/api_docs/python/tf/layers) 或 [TensorFlow Layers (contrib)](https://www.tensorflow.org/api_guides/python/contrib.layers) 程序包中的类来构建每个层级，但是“卷积和最大池化层级”部分的层级除外。TF Layers 和 Keras 及 TFLearn 层级类似，因此很容易学会。\n",
    "\n",
    ">但是，如果你想充分利用这门课程，请尝试自己解决所有问题，不使用 TF Layers 程序包中的任何类。你依然可以使用其他程序包中的类，这些类和你在 TF Layers 中的类名称是一样的！例如，你可以使用 TF Neural Network 版本的 `conv2d` 类 [tf.nn.conv2d](https://www.tensorflow.org/api_docs/python/tf/nn/conv2d)，而不是 TF Layers 版本的 `conv2d` 类 [tf.layers.conv2d](https://www.tensorflow.org/api_docs/python/tf/layers/conv2d)。\n",
    "\n",
    "我们开始吧！\n",
    "\n",
    "\n",
    "### 输入\n",
    "\n",
    "神经网络需要读取图片数据、one-hot 编码标签和丢弃保留概率（dropout keep probability）。请实现以下函数：\n",
    "\n",
    "* 实现 `neural_net_image_input`\n",
    " * 返回 [TF Placeholder](https://www.tensorflow.org/api_docs/python/tf/placeholder)\n",
    " * 使用 `image_shape` 设置形状，部分大小设为 `None`\n",
    " * 使用 [TF Placeholder](https://www.tensorflow.org/api_docs/python/tf/placeholder) 中的 TensorFlow `name` 参数对 TensorFlow 占位符 \"x\" 命名\n",
    "* 实现 `neural_net_label_input`\n",
    " * 返回 [TF Placeholder](https://www.tensorflow.org/api_docs/python/tf/placeholder)\n",
    " * 使用 `n_classes` 设置形状，部分大小设为 `None`\n",
    " * 使用 [TF Placeholder](https://www.tensorflow.org/api_docs/python/tf/placeholder) 中的 TensorFlow `name` 参数对 TensorFlow 占位符 \"y\" 命名\n",
    "* 实现 `neural_net_keep_prob_input`\n",
    " * 返回 [TF Placeholder](https://www.tensorflow.org/api_docs/python/tf/placeholder)，用于丢弃保留概率\n",
    " * 使用 [TF Placeholder](https://www.tensorflow.org/api_docs/python/tf/placeholder) 中的 TensorFlow `name` 参数对 TensorFlow 占位符 \"keep_prob\" 命名\n",
    "\n",
    "这些名称将在项目结束时，用于加载保存的模型。\n",
    "\n",
    "注意：TensorFlow 中的 `None` 表示形状可以是动态大小。"
   ]
  },
  {
   "cell_type": "code",
   "execution_count": 7,
   "metadata": {},
   "outputs": [
    {
     "name": "stdout",
     "output_type": "stream",
     "text": [
      "Image Input Tests Passed.\n",
      "Label Input Tests Passed.\n",
      "Keep Prob Tests Passed.\n"
     ]
    }
   ],
   "source": [
    "import tensorflow as tf\n",
    "\n",
    "def neural_net_image_input(image_shape):\n",
    "    \"\"\"\n",
    "    Return a Tensor for a batch of image input\n",
    "    : image_shape: Shape of the images\n",
    "    : return: Tensor for image input.\n",
    "    \"\"\"\n",
    "    # TODO: Implement Function\n",
    "    return tf.placeholder(tf.float32, shape=[None, *image_shape], name='x')\n",
    "\n",
    "\n",
    "def neural_net_label_input(n_classes):\n",
    "    \"\"\"\n",
    "    Return a Tensor for a batch of label input\n",
    "    : n_classes: Number of classes\n",
    "    : return: Tensor for label input.\n",
    "    \"\"\"\n",
    "    # TODO: Implement Function\n",
    "    return tf.placeholder(tf.float32, shape=[None,n_classes], name='y')\n",
    "\n",
    "\n",
    "def neural_net_keep_prob_input():\n",
    "    \"\"\"\n",
    "    Return a Tensor for keep probability\n",
    "    : return: Tensor for keep probability.\n",
    "    \"\"\"\n",
    "    # TODO: Implement Function\n",
    "    return tf.placeholder(tf.float32, name=\"keep_prob\")\n",
    "\n",
    "\n",
    "\"\"\"\n",
    "DON'T MODIFY ANYTHING IN THIS CELL THAT IS BELOW THIS LINE\n",
    "\"\"\"\n",
    "tf.reset_default_graph()\n",
    "tests.test_nn_image_inputs(neural_net_image_input)\n",
    "tests.test_nn_label_inputs(neural_net_label_input)\n",
    "tests.test_nn_keep_prob_inputs(neural_net_keep_prob_input)"
   ]
  },
  {
   "cell_type": "markdown",
   "metadata": {},
   "source": [
    "### 卷积和最大池化层\n",
    "\n",
    "卷积层级适合处理图片。对于此代码单元，你应该实现函数 `conv2d_maxpool` 以便应用卷积然后进行最大池化：\n",
    "\n",
    "* 使用 `conv_ksize`、`conv_num_outputs` 和 `x_tensor` 的形状创建权重（weight）和偏置（bias）。\n",
    "* 使用权重和 `conv_strides` 对 `x_tensor` 应用卷积。\n",
    " * 建议使用我们建议的间距（padding），当然也可以使用任何其他间距。\n",
    "* 添加偏置\n",
    "* 向卷积中添加非线性激活（nonlinear activation）\n",
    "* 使用 `pool_ksize` 和 `pool_strides` 应用最大池化\n",
    " * 建议使用我们建议的间距（padding），当然也可以使用任何其他间距。\n",
    "\n",
    "**注意**：对于**此层**，**请勿使用** [TensorFlow Layers](https://www.tensorflow.org/api_docs/python/tf/layers) 或 [TensorFlow Layers (contrib)](https://www.tensorflow.org/api_guides/python/contrib.layers)，但是仍然可以使用 TensorFlow 的 [Neural Network](https://www.tensorflow.org/api_docs/python/tf/nn) 包。对于所有**其他层**，你依然可以使用快捷方法。\n"
   ]
  },
  {
   "cell_type": "code",
   "execution_count": 8,
   "metadata": {},
   "outputs": [
    {
     "name": "stdout",
     "output_type": "stream",
     "text": [
      "Tests Passed\n"
     ]
    }
   ],
   "source": [
    "def conv2d_maxpool(x_tensor, conv_num_outputs, conv_ksize, conv_strides, pool_ksize, pool_strides):\n",
    "    \"\"\"\n",
    "    Apply convolution then max pooling to x_tensor\n",
    "    :param x_tensor: TensorFlow Tensor\n",
    "    :param conv_num_outputs: Number of outputs for the convolutional layer\n",
    "    :param conv_ksize: kernal size 2-D Tuple for the convolutional layer\n",
    "    :param conv_strides: Stride 2-D Tuple for convolution\n",
    "    :param pool_ksize: kernal size 2-D Tuple for pool\n",
    "    :param pool_strides: Stride 2-D Tuple for pool\n",
    "    : return: A tensor that represents convolution and max pooling of x_tensor\n",
    "    \"\"\"\n",
    "    # TODO: Implement Function\n",
    "    width = conv_ksize[0]\n",
    "    height = conv_ksize[1]\n",
    "    depth =  x_tensor.shape[3].value\n",
    " \n",
    "    \n",
    "    weights = tf.Variable(tf.random_normal([width, height, depth, conv_num_outputs], mean = 0, stddev = 0.1))   #Correct the mean to 0, but keep stddev as 0.1\n",
    "    bias = tf.Variable(tf.random_normal([conv_num_outputs]))\n",
    "\n",
    "    \n",
    "    conv = tf.nn.conv2d(x_tensor, weights, strides=[1, *conv_strides, 1], padding=\"SAME\")\n",
    "    conv = tf.nn.bias_add(conv, bias)\n",
    "    conv = tf.nn.relu(conv)\n",
    "    \n",
    "    \n",
    "    pool  = tf.nn.max_pool(conv, ksize=[1, *pool_ksize,1], strides= [1, *pool_strides, 1], padding=\"SAME\" )\n",
    "    \n",
    "    \n",
    "    return pool\n",
    "\n",
    "\n",
    "\"\"\"\n",
    "DON'T MODIFY ANYTHING IN THIS CELL THAT IS BELOW THIS LINE\n",
    "\"\"\"\n",
    "tests.test_con_pool(conv2d_maxpool)"
   ]
  },
  {
   "cell_type": "markdown",
   "metadata": {},
   "source": [
    "### 扁平化层\n",
    "\n",
    "实现 `flatten` 函数，将 `x_tensor` 的维度从四维张量（4-D tensor）变成二维张量。输出应该是形状（*部分大小（Batch Size）*，*扁平化图片大小（Flattened Image Size）*）。快捷方法：对于此层，你可以使用 [TensorFlow Layers](https://www.tensorflow.org/api_docs/python/tf/layers) 或 [TensorFlow Layers (contrib)](https://www.tensorflow.org/api_guides/python/contrib.layers) 包中的类。如果你想要更大挑战，可以仅使用其他 TensorFlow 程序包。\n"
   ]
  },
  {
   "cell_type": "code",
   "execution_count": 9,
   "metadata": {},
   "outputs": [
    {
     "name": "stdout",
     "output_type": "stream",
     "text": [
      "Tests Passed\n"
     ]
    }
   ],
   "source": [
    "import numpy as np\n",
    "def flatten(x_tensor):\n",
    "    \"\"\"\n",
    "    Flatten x_tensor to (Batch Size, Flattened Image Size)\n",
    "    : x_tensor: A tensor of size (Batch Size, ...), where ... are the image dimensions.\n",
    "    : return: A tensor of size (Batch Size, Flattened Image Size).\n",
    "    \"\"\"\n",
    "    # TODO: Implement Function\n",
    "    #batch_size = x_tensor.shape[0]._value\n",
    "    \n",
    "    #picture_size = x_tensor.shape[1]._value *  x_tensor.shape[2]._value *  x_tensor.shape[3]._value \n",
    "    \n",
    "    shape = x_tensor.get_shape().as_list() \n",
    "    dim = np.product(shape[1:]) \n",
    "    \n",
    "    flatten =  tf.reshape(x_tensor, [-1, dim])\n",
    "    return flatten\n",
    "\n",
    "\n",
    "\"\"\"\n",
    "DON'T MODIFY ANYTHING IN THIS CELL THAT IS BELOW THIS LINE\n",
    "\"\"\"\n",
    "tests.test_flatten(flatten)"
   ]
  },
  {
   "cell_type": "markdown",
   "metadata": {},
   "source": [
    "### 完全连接的层\n",
    "\n",
    "实现 `fully_conn` 函数，以向 `x_tensor` 应用完全连接的层级，形状为（*部分大小（Batch Size）*，*num_outputs*）。快捷方法：对于此层，你可以使用 [TensorFlow Layers](https://www.tensorflow.org/api_docs/python/tf/layers) 或 [TensorFlow Layers (contrib)](https://www.tensorflow.org/api_guides/python/contrib.layers) 包中的类。如果你想要更大挑战，可以仅使用其他 TensorFlow 程序包。"
   ]
  },
  {
   "cell_type": "code",
   "execution_count": 10,
   "metadata": {},
   "outputs": [
    {
     "name": "stdout",
     "output_type": "stream",
     "text": [
      "Tests Passed\n"
     ]
    }
   ],
   "source": [
    "def fully_conn(x_tensor, num_outputs):\n",
    "    \"\"\"\n",
    "    Apply a fully connected layer to x_tensor using weight and bias\n",
    "    : x_tensor: A 2-D tensor where the first dimension is batch size.\n",
    "    : num_outputs: The number of output that the new tensor should be.\n",
    "    : return: A 2-D tensor where the second dimension is num_outputs.\n",
    "    \"\"\"\n",
    "    # TODO: Implement Function\n",
    "    batch_size = x_tensor.shape[0].value\n",
    "    input_size = x_tensor.shape[1].value\n",
    "    \n",
    "    weight = tf.Variable(tf.random_normal([input_size, num_outputs], mean= 0, stddev = 0.1))\n",
    "    bias = tf.Variable(tf.random_normal([num_outputs]))\n",
    "    \n",
    "    logits = tf.add(tf.matmul(x_tensor, weight), bias)\n",
    "    logits = tf.nn.relu(logits)\n",
    "    \n",
    "    return logits\n",
    "\n",
    "\n",
    "\"\"\"\n",
    "DON'T MODIFY ANYTHING IN THIS CELL THAT IS BELOW THIS LINE\n",
    "\"\"\"\n",
    "tests.test_fully_conn(fully_conn)"
   ]
  },
  {
   "cell_type": "markdown",
   "metadata": {},
   "source": [
    "### 输出层\n",
    "\n",
    "实现 `output` 函数，向 x_tensor 应用完全连接的层级，形状为（*部分大小（Batch Size）*，*num_outputs*）。快捷方法：对于此层，你可以使用 [TensorFlow Layers](https://www.tensorflow.org/api_docs/python/tf/layers) 或 [TensorFlow Layers (contrib)](https://www.tensorflow.org/api_guides/python/contrib.layers) 包中的类。如果你想要更大挑战，可以仅使用其他 TensorFlow 程序包。\n",
    "\n",
    "**注意**：该层级不应应用 Activation、softmax 或交叉熵（cross entropy）。"
   ]
  },
  {
   "cell_type": "code",
   "execution_count": 11,
   "metadata": {},
   "outputs": [
    {
     "name": "stdout",
     "output_type": "stream",
     "text": [
      "Tests Passed\n"
     ]
    }
   ],
   "source": [
    "def output(x_tensor, num_outputs):\n",
    "    \"\"\"\n",
    "    Apply a output layer to x_tensor using weight and bias\n",
    "    : x_tensor: A 2-D tensor where the first dimension is batch size.\n",
    "    : num_outputs: The number of output that the new tensor should be.\n",
    "    : return: A 2-D tensor where the second dimension is num_outputs.\n",
    "    \"\"\"\n",
    "    # TODO: Implement Function\n",
    "    \n",
    "    batch_size = x_tensor.shape[0]._value\n",
    "    input_size = x_tensor.shape[1]._value\n",
    "    \n",
    "    weight = tf.Variable(tf.random_normal([input_size, num_outputs], mean = 0, stddev = 0.1))\n",
    "    bias = tf.Variable(tf.random_normal([num_outputs]))\n",
    "    \n",
    "    out = tf.add(tf.matmul(x_tensor, weight), bias)\n",
    "    \n",
    "    \n",
    "    return out\n",
    " \n",
    "\n",
    "\n",
    "\"\"\"\n",
    "DON'T MODIFY ANYTHING IN THIS CELL THAT IS BELOW THIS LINE\n",
    "\"\"\"\n",
    "tests.test_output(output)"
   ]
  },
  {
   "cell_type": "markdown",
   "metadata": {},
   "source": [
    "### 创建卷积模型\n",
    "\n",
    "实现函数 `conv_net`， 创建卷积神经网络模型。该函数传入一批图片 `x`，并输出对数（logits）。使用你在上方创建的层创建此模型：\n",
    "\n",
    "* 应用 1、2 或 3 个卷积和最大池化层（Convolution and Max Pool layers）\n",
    "* 应用一个扁平层（Flatten Layer）\n",
    "* 应用 1、2 或 3 个完全连接层（Fully Connected Layers）\n",
    "* 应用一个输出层（Output Layer）\n",
    "* 返回输出\n",
    "* 使用 `keep_prob` 向模型中的一个或多个层应用 [TensorFlow 的 Dropout](https://www.tensorflow.org/api_docs/python/tf/nn/dropout)"
   ]
  },
  {
   "cell_type": "code",
   "execution_count": 12,
   "metadata": {},
   "outputs": [
    {
     "name": "stdout",
     "output_type": "stream",
     "text": [
      "Neural Network Built!\n"
     ]
    }
   ],
   "source": [
    "def conv_net(x, keep_prob):\n",
    "    \"\"\"\n",
    "    Create a convolutional neural network model\n",
    "    : x: Placeholder tensor that holds image data.\n",
    "    : keep_prob: Placeholder tensor that hold dropout keep probability.\n",
    "    : return: Tensor that represents logits\n",
    "    \"\"\"\n",
    "    # TODO: Apply 1, 2, or 3 Convolution and Max Pool layers\n",
    "    #    Play around with different number of outputs, kernel size and stride\n",
    "    # Function Definition from Above:\n",
    "    #    conv2d_maxpool(x_tensor, conv_num_outputs, conv_ksize, conv_strides, pool_ksize, pool_strides)\n",
    "    conv1 = conv2d_maxpool(x, 32, [3,3],[1,1],[1,1],[1,1])\n",
    "    conv2 = conv2d_maxpool(conv1, 64, [3,3],[1,1],[2,2],[1,1])\n",
    "    conv3 = conv2d_maxpool(conv2, 128,[5,5],[2,2],[2,2],[2,2])\n",
    "\n",
    "    \n",
    "\n",
    "    # TODO: Apply a Flatten Layer\n",
    "    # Function Definition from Above:\n",
    "    #   flatten(x_tensor)\n",
    "    flatten_layer = flatten(conv3)\n",
    "    \n",
    "\n",
    "    # TODO: Apply 1, 2, or 3 Fully Connected Layers\n",
    "    #    Play around with different number of outputs\n",
    "    # Function Definition from Above:\n",
    "    #   fully_conn(x_tensor, num_outputs)\n",
    "    full_layer1 = fully_conn(flatten_layer, 500)\n",
    "    \n",
    "    full_layer2 = fully_conn(full_layer1, 250)\n",
    "    full_layer2 = tf.nn.dropout(full_layer2, keep_prob)\n",
    "    \n",
    "    \n",
    "    # TODO: Apply an Output Layer\n",
    "    #    Set this to the number of classes\n",
    "    # Function Definition from Above:\n",
    "    #   output(x_tensor, num_outputs)\n",
    "    out = output(full_layer2, 10)\n",
    "    \n",
    "    # TODO: return output\n",
    "    return out\n",
    "\n",
    "\n",
    "\"\"\"\n",
    "DON'T MODIFY ANYTHING IN THIS CELL THAT IS BELOW THIS LINE\n",
    "\"\"\"\n",
    "\n",
    "##############################\n",
    "## Build the Neural Network ##\n",
    "##############################\n",
    "\n",
    "# Remove previous weights, bias, inputs, etc..\n",
    "tf.reset_default_graph()\n",
    "\n",
    "# Inputs\n",
    "x = neural_net_image_input((32, 32, 3))\n",
    "y = neural_net_label_input(10)\n",
    "keep_prob = neural_net_keep_prob_input()\n",
    "\n",
    "# Model\n",
    "logits = conv_net(x, keep_prob)\n",
    "\n",
    "# Name logits Tensor, so that is can be loaded from disk after training\n",
    "logits = tf.identity(logits, name='logits')\n",
    "\n",
    "# Loss and Optimizer\n",
    "cost = tf.reduce_mean(tf.nn.softmax_cross_entropy_with_logits(logits=logits, labels=y))\n",
    "optimizer = tf.train.AdamOptimizer().minimize(cost)\n",
    "\n",
    "# Accuracy\n",
    "correct_pred = tf.equal(tf.argmax(logits, 1), tf.argmax(y, 1))\n",
    "accuracy = tf.reduce_mean(tf.cast(correct_pred, tf.float32), name='accuracy')\n",
    "\n",
    "tests.test_conv_net(conv_net)"
   ]
  },
  {
   "cell_type": "markdown",
   "metadata": {},
   "source": [
    "## 训练神经网络\n",
    "\n",
    "### 单次优化\n",
    "\n",
    "实现函数 `train_neural_network` 以进行单次优化（single optimization）。该优化应该使用 `optimizer` 优化 `session`，其中 `feed_dict` 具有以下参数：\n",
    "\n",
    "* `x` 表示图片输入\n",
    "* `y` 表示标签\n",
    "* `keep_prob` 表示丢弃的保留率\n",
    "\n",
    "每个部分都会调用该函数，所以 `tf.global_variables_initializer()` 已经被调用。\n",
    "\n",
    "注意：不需要返回任何内容。该函数只是用来优化神经网络。\n"
   ]
  },
  {
   "cell_type": "code",
   "execution_count": 13,
   "metadata": {},
   "outputs": [
    {
     "name": "stdout",
     "output_type": "stream",
     "text": [
      "Tests Passed\n"
     ]
    }
   ],
   "source": [
    "def train_neural_network(session, optimizer, keep_probability, feature_batch, label_batch):\n",
    "    \"\"\"\n",
    "    Optimize the session on a batch of images and labels\n",
    "    : session: Current TensorFlow session\n",
    "    : optimizer: TensorFlow optimizer function\n",
    "    : keep_probability: keep probability\n",
    "    : feature_batch: Batch of Numpy image data\n",
    "    : label_batch: Batch of Numpy label data\n",
    "    \"\"\"\n",
    "    # TODO: Implement Function\n",
    "    session.run(optimizer, feed_dict={x: feature_batch, y: label_batch, keep_prob: keep_probability})\n",
    "    \n",
    "    out = session.run(logits, feed_dict={x: feature_batch, y: label_batch, keep_prob: keep_probability})\n",
    "    #print (\"out\")\n",
    "    #print(out)\n",
    "\n",
    "\"\"\"\n",
    "DON'T MODIFY ANYTHING IN THIS CELL THAT IS BELOW THIS LINE\n",
    "\"\"\"\n",
    "tests.test_train_nn(train_neural_network)"
   ]
  },
  {
   "cell_type": "markdown",
   "metadata": {},
   "source": [
    "### 显示数据\n",
    "\n",
    "实现函数 `print_stats` 以输出损失和验证准确率。使用全局变量 `valid_features` 和 `valid_labels` 计算验证准确率。使用保留率 `1.0` 计算损失和验证准确率（loss and validation accuracy）。\n"
   ]
  },
  {
   "cell_type": "code",
   "execution_count": 18,
   "metadata": {
    "collapsed": true
   },
   "outputs": [],
   "source": [
    "def print_stats(session, feature_batch, label_batch, cost, accuracy):\n",
    "    \"\"\"\n",
    "    Print information about loss and validation accuracy\n",
    "    : session: Current TensorFlow session\n",
    "    : feature_batch: Batch of Numpy image data\n",
    "    : label_batch: Batch of Numpy label data\n",
    "    : cost: TensorFlow cost function\n",
    "    : accuracy: TensorFlow accuracy function\n",
    "    \"\"\"\n",
    "    # TODO: Implement Function\n",
    "    run_cost = session.run(cost, feed_dict={x: feature_batch, y: label_batch, keep_prob: 1.0})\n",
    "    run_acc = session.run(accuracy, feed_dict={x: valid_features, y: valid_labels, keep_prob: 1.0})\n",
    "    \n",
    "    print(\"cost: {}\".format(run_cost))\n",
    "    print(\"accurancy: {}\".format(run_acc))"
   ]
  },
  {
   "cell_type": "markdown",
   "metadata": {},
   "source": [
    "### 超参数\n",
    "\n",
    "调试以下超参数：\n",
    "* 设置 `epochs` 表示神经网络停止学习或开始过拟合的迭代次数\n",
    "* 设置 `batch_size`，表示机器内存允许的部分最大体积。大部分人设为以下常见内存大小：\n",
    "\n",
    " * 64\n",
    " * 128\n",
    " * 256\n",
    " * ...\n",
    "* 设置 `keep_probability` 表示使用丢弃时保留节点的概率"
   ]
  },
  {
   "cell_type": "code",
   "execution_count": 19,
   "metadata": {
    "collapsed": true
   },
   "outputs": [],
   "source": [
    "# TODO: Tune Parameters\n",
    "epochs = 20\n",
    "batch_size = 256\n",
    "keep_probability = 0.8"
   ]
  },
  {
   "cell_type": "markdown",
   "metadata": {},
   "source": [
    "### 在单个 CIFAR-10 部分上训练\n",
    "\n",
    "我们先用单个部分，而不是用所有的 CIFAR-10 批次训练神经网络。这样可以节省时间，并对模型进行迭代，以提高准确率。最终验证准确率达到 50% 或以上之后，在下一部分对所有数据运行模型。\n"
   ]
  },
  {
   "cell_type": "code",
   "execution_count": 20,
   "metadata": {
    "scrolled": true
   },
   "outputs": [
    {
     "name": "stdout",
     "output_type": "stream",
     "text": [
      "Checking the Training on a Single Batch...\n",
      "Epoch  1, CIFAR-10 Batch 1:  cost: 2.114042282104492\n",
      "accurancy: 0.2051999866962433\n",
      "Epoch  2, CIFAR-10 Batch 1:  cost: 1.9097578525543213\n",
      "accurancy: 0.3259999752044678\n",
      "Epoch  3, CIFAR-10 Batch 1:  cost: 1.7844011783599854\n",
      "accurancy: 0.35899996757507324\n",
      "Epoch  4, CIFAR-10 Batch 1:  cost: 1.6078410148620605\n",
      "accurancy: 0.3877999782562256\n",
      "Epoch  5, CIFAR-10 Batch 1:  cost: 1.3570802211761475\n",
      "accurancy: 0.4137999713420868\n",
      "Epoch  6, CIFAR-10 Batch 1:  cost: 1.1475651264190674\n",
      "accurancy: 0.4429999589920044\n",
      "Epoch  7, CIFAR-10 Batch 1:  cost: 1.0725630521774292\n",
      "accurancy: 0.43459996581077576\n",
      "Epoch  8, CIFAR-10 Batch 1:  cost: 0.8877511024475098\n",
      "accurancy: 0.44579994678497314\n",
      "Epoch  9, CIFAR-10 Batch 1:  cost: 0.7895908355712891\n",
      "accurancy: 0.45639994740486145\n",
      "Epoch 10, CIFAR-10 Batch 1:  cost: 0.6804665327072144\n",
      "accurancy: 0.4713999927043915\n",
      "Epoch 11, CIFAR-10 Batch 1:  cost: 0.7119660973548889\n",
      "accurancy: 0.4527999460697174\n",
      "Epoch 12, CIFAR-10 Batch 1:  cost: 0.5998827219009399\n",
      "accurancy: 0.4691999554634094\n",
      "Epoch 13, CIFAR-10 Batch 1:  cost: 0.48128199577331543\n",
      "accurancy: 0.49359995126724243\n",
      "Epoch 14, CIFAR-10 Batch 1:  cost: 0.4451626241207123\n",
      "accurancy: 0.500999927520752\n",
      "Epoch 15, CIFAR-10 Batch 1:  cost: 0.29676464200019836\n",
      "accurancy: 0.5157999396324158\n",
      "Epoch 16, CIFAR-10 Batch 1:  cost: 0.23105478286743164\n",
      "accurancy: 0.5091999173164368\n",
      "Epoch 17, CIFAR-10 Batch 1:  cost: 0.20739823579788208\n",
      "accurancy: 0.5247999429702759\n",
      "Epoch 18, CIFAR-10 Batch 1:  cost: 0.20038838684558868\n",
      "accurancy: 0.5231999158859253\n",
      "Epoch 19, CIFAR-10 Batch 1:  cost: 0.1339224874973297\n",
      "accurancy: 0.5055999159812927\n",
      "Epoch 20, CIFAR-10 Batch 1:  cost: 0.14577719569206238\n",
      "accurancy: 0.5099999308586121\n"
     ]
    }
   ],
   "source": [
    "\"\"\"\n",
    "DON'T MODIFY ANYTHING IN THIS CELL\n",
    "\"\"\"\n",
    "print('Checking the Training on a Single Batch...')\n",
    "with tf.Session() as sess:\n",
    "    # Initializing the variables\n",
    "    sess.run(tf.global_variables_initializer())\n",
    "    \n",
    "    # Training cycle\n",
    "    for epoch in range(epochs):\n",
    "        batch_i = 1\n",
    "        for batch_features, batch_labels in helper.load_preprocess_training_batch(batch_i, batch_size):\n",
    "            train_neural_network(sess, optimizer, keep_probability, batch_features, batch_labels)\n",
    "            \n",
    "           \n",
    "            \n",
    "            \n",
    "        print('Epoch {:>2}, CIFAR-10 Batch {}:  '.format(epoch + 1, batch_i), end='')\n",
    "        print_stats(sess, batch_features, batch_labels, cost, accuracy)"
   ]
  },
  {
   "cell_type": "markdown",
   "metadata": {},
   "source": [
    "### 完全训练模型\n",
    "\n",
    "现在，单个 CIFAR-10 部分的准确率已经不错了，试试所有五个部分吧。"
   ]
  },
  {
   "cell_type": "code",
   "execution_count": 21,
   "metadata": {},
   "outputs": [
    {
     "name": "stdout",
     "output_type": "stream",
     "text": [
      "Training...\n",
      "Epoch  1, CIFAR-10 Batch 1:  cost: 2.281782627105713\n",
      "accurancy: 0.14059999585151672\n",
      "Epoch  1, CIFAR-10 Batch 2:  cost: 2.131124258041382\n",
      "accurancy: 0.2533999979496002\n",
      "Epoch  1, CIFAR-10 Batch 3:  cost: 1.8163559436798096\n",
      "accurancy: 0.2865999639034271\n",
      "Epoch  1, CIFAR-10 Batch 4:  cost: 1.7777841091156006\n",
      "accurancy: 0.34579998254776\n",
      "Epoch  1, CIFAR-10 Batch 5:  cost: 1.789567232131958\n",
      "accurancy: 0.3583999574184418\n",
      "Epoch  2, CIFAR-10 Batch 1:  cost: 1.8596843481063843\n",
      "accurancy: 0.3799999952316284\n",
      "Epoch  2, CIFAR-10 Batch 2:  cost: 1.685471534729004\n",
      "accurancy: 0.39719995856285095\n",
      "Epoch  2, CIFAR-10 Batch 3:  cost: 1.5674734115600586\n",
      "accurancy: 0.4050000011920929\n",
      "Epoch  2, CIFAR-10 Batch 4:  cost: 1.529973030090332\n",
      "accurancy: 0.4291999638080597\n",
      "Epoch  2, CIFAR-10 Batch 5:  cost: 1.5795669555664062\n",
      "accurancy: 0.4211999773979187\n",
      "Epoch  3, CIFAR-10 Batch 1:  cost: 1.6422157287597656\n",
      "accurancy: 0.4179999828338623\n",
      "Epoch  3, CIFAR-10 Batch 2:  cost: 1.5529166460037231\n",
      "accurancy: 0.4347999691963196\n",
      "Epoch  3, CIFAR-10 Batch 3:  cost: 1.3461347818374634\n",
      "accurancy: 0.4083999693393707\n",
      "Epoch  3, CIFAR-10 Batch 4:  cost: 1.401700496673584\n",
      "accurancy: 0.4681999683380127\n",
      "Epoch  3, CIFAR-10 Batch 5:  cost: 1.4092590808868408\n",
      "accurancy: 0.46799996495246887\n",
      "Epoch  4, CIFAR-10 Batch 1:  cost: 1.5751152038574219\n",
      "accurancy: 0.46959996223449707\n",
      "Epoch  4, CIFAR-10 Batch 2:  cost: 1.3568354845046997\n",
      "accurancy: 0.47419995069503784\n",
      "Epoch  4, CIFAR-10 Batch 3:  cost: 1.0668915510177612\n",
      "accurancy: 0.47679996490478516\n",
      "Epoch  4, CIFAR-10 Batch 4:  cost: 1.2131234407424927\n",
      "accurancy: 0.48260000348091125\n",
      "Epoch  4, CIFAR-10 Batch 5:  cost: 1.2493805885314941\n",
      "accurancy: 0.5004000067710876\n",
      "Epoch  5, CIFAR-10 Batch 1:  cost: 1.4026161432266235\n",
      "accurancy: 0.48639997839927673\n",
      "Epoch  5, CIFAR-10 Batch 2:  cost: 1.1764874458312988\n",
      "accurancy: 0.5031999349594116\n",
      "Epoch  5, CIFAR-10 Batch 3:  cost: 0.8905448317527771\n",
      "accurancy: 0.49799996614456177\n",
      "Epoch  5, CIFAR-10 Batch 4:  cost: 1.1469736099243164\n",
      "accurancy: 0.5089999437332153\n",
      "Epoch  5, CIFAR-10 Batch 5:  cost: 1.1226292848587036\n",
      "accurancy: 0.5039999485015869\n",
      "Epoch  6, CIFAR-10 Batch 1:  cost: 1.2408334016799927\n",
      "accurancy: 0.5257999897003174\n",
      "Epoch  6, CIFAR-10 Batch 2:  cost: 0.9930281639099121\n",
      "accurancy: 0.5265999436378479\n",
      "Epoch  6, CIFAR-10 Batch 3:  cost: 0.7537322640419006\n",
      "accurancy: 0.504599928855896\n",
      "Epoch  6, CIFAR-10 Batch 4:  cost: 1.0264167785644531\n",
      "accurancy: 0.5367999076843262\n",
      "Epoch  6, CIFAR-10 Batch 5:  cost: 0.9566919803619385\n",
      "accurancy: 0.5417999029159546\n",
      "Epoch  7, CIFAR-10 Batch 1:  cost: 1.0794870853424072\n",
      "accurancy: 0.5321999192237854\n",
      "Epoch  7, CIFAR-10 Batch 2:  cost: 0.8713144659996033\n",
      "accurancy: 0.5395999550819397\n",
      "Epoch  7, CIFAR-10 Batch 3:  cost: 0.6995130777359009\n",
      "accurancy: 0.5079999566078186\n",
      "Epoch  7, CIFAR-10 Batch 4:  cost: 0.8775968551635742\n",
      "accurancy: 0.5277999639511108\n",
      "Epoch  7, CIFAR-10 Batch 5:  cost: 0.8621483445167542\n",
      "accurancy: 0.5469999313354492\n",
      "Epoch  8, CIFAR-10 Batch 1:  cost: 0.9276410341262817\n",
      "accurancy: 0.5363999605178833\n",
      "Epoch  8, CIFAR-10 Batch 2:  cost: 0.8017423152923584\n",
      "accurancy: 0.5495999455451965\n",
      "Epoch  8, CIFAR-10 Batch 3:  cost: 0.6202729344367981\n",
      "accurancy: 0.5185999870300293\n",
      "Epoch  8, CIFAR-10 Batch 4:  cost: 0.7394653558731079\n",
      "accurancy: 0.5419999361038208\n",
      "Epoch  8, CIFAR-10 Batch 5:  cost: 0.7765697836875916\n",
      "accurancy: 0.5603999495506287\n",
      "Epoch  9, CIFAR-10 Batch 1:  cost: 0.8356557488441467\n",
      "accurancy: 0.5589999556541443\n",
      "Epoch  9, CIFAR-10 Batch 2:  cost: 0.7126550078392029\n",
      "accurancy: 0.5669999122619629\n",
      "Epoch  9, CIFAR-10 Batch 3:  cost: 0.4680774509906769\n",
      "accurancy: 0.5643998980522156\n",
      "Epoch  9, CIFAR-10 Batch 4:  cost: 0.6225506067276001\n",
      "accurancy: 0.5577999353408813\n",
      "Epoch  9, CIFAR-10 Batch 5:  cost: 0.6185320615768433\n",
      "accurancy: 0.5817999243736267\n",
      "Epoch 10, CIFAR-10 Batch 1:  cost: 0.7620309591293335\n",
      "accurancy: 0.554599940776825\n",
      "Epoch 10, CIFAR-10 Batch 2:  cost: 0.6218486428260803\n",
      "accurancy: 0.5857999324798584\n",
      "Epoch 10, CIFAR-10 Batch 3:  cost: 0.3963594436645508\n",
      "accurancy: 0.561799943447113\n",
      "Epoch 10, CIFAR-10 Batch 4:  cost: 0.5183254480361938\n",
      "accurancy: 0.5697999596595764\n",
      "Epoch 10, CIFAR-10 Batch 5:  cost: 0.5545178651809692\n",
      "accurancy: 0.5787999033927917\n",
      "Epoch 11, CIFAR-10 Batch 1:  cost: 0.6133896112442017\n",
      "accurancy: 0.5639998912811279\n",
      "Epoch 11, CIFAR-10 Batch 2:  cost: 0.5343107581138611\n",
      "accurancy: 0.5835999250411987\n",
      "Epoch 11, CIFAR-10 Batch 3:  cost: 0.3133465051651001\n",
      "accurancy: 0.5913999676704407\n",
      "Epoch 11, CIFAR-10 Batch 4:  cost: 0.41908952593803406\n",
      "accurancy: 0.5633999109268188\n",
      "Epoch 11, CIFAR-10 Batch 5:  cost: 0.4700740873813629\n",
      "accurancy: 0.5927999019622803\n",
      "Epoch 12, CIFAR-10 Batch 1:  cost: 0.5660630464553833\n",
      "accurancy: 0.5695999264717102\n",
      "Epoch 12, CIFAR-10 Batch 2:  cost: 0.5061966180801392\n",
      "accurancy: 0.5641999244689941\n",
      "Epoch 12, CIFAR-10 Batch 3:  cost: 0.2548869848251343\n",
      "accurancy: 0.5797999501228333\n",
      "Epoch 12, CIFAR-10 Batch 4:  cost: 0.32414764165878296\n",
      "accurancy: 0.591999888420105\n",
      "Epoch 12, CIFAR-10 Batch 5:  cost: 0.41133883595466614\n",
      "accurancy: 0.6071999073028564\n",
      "Epoch 13, CIFAR-10 Batch 1:  cost: 0.5124438405036926\n",
      "accurancy: 0.5595999360084534\n",
      "Epoch 13, CIFAR-10 Batch 2:  cost: 0.47162339091300964\n",
      "accurancy: 0.5671998858451843\n",
      "Epoch 13, CIFAR-10 Batch 3:  cost: 0.20938728749752045\n",
      "accurancy: 0.5969998240470886\n",
      "Epoch 13, CIFAR-10 Batch 4:  cost: 0.32699087262153625\n",
      "accurancy: 0.59579998254776\n",
      "Epoch 13, CIFAR-10 Batch 5:  cost: 0.3312200605869293\n",
      "accurancy: 0.6029998660087585\n",
      "Epoch 14, CIFAR-10 Batch 1:  cost: 0.34870076179504395\n",
      "accurancy: 0.5905998945236206\n",
      "Epoch 14, CIFAR-10 Batch 2:  cost: 0.3213790953159332\n",
      "accurancy: 0.6035999059677124\n",
      "Epoch 14, CIFAR-10 Batch 3:  cost: 0.16912898421287537\n",
      "accurancy: 0.591999888420105\n",
      "Epoch 14, CIFAR-10 Batch 4:  cost: 0.2494271695613861\n",
      "accurancy: 0.5937999486923218\n",
      "Epoch 14, CIFAR-10 Batch 5:  cost: 0.2615584135055542\n",
      "accurancy: 0.5955999493598938\n",
      "Epoch 15, CIFAR-10 Batch 1:  cost: 0.3081643879413605\n",
      "accurancy: 0.5959998965263367\n",
      "Epoch 15, CIFAR-10 Batch 2:  cost: 0.25249654054641724\n",
      "accurancy: 0.6053999066352844\n",
      "Epoch 15, CIFAR-10 Batch 3:  cost: 0.1309330314397812\n",
      "accurancy: 0.6007998585700989\n",
      "Epoch 15, CIFAR-10 Batch 4:  cost: 0.1974741518497467\n",
      "accurancy: 0.5955999493598938\n",
      "Epoch 15, CIFAR-10 Batch 5:  cost: 0.22978031635284424\n",
      "accurancy: 0.6111999750137329\n",
      "Epoch 16, CIFAR-10 Batch 1:  cost: 0.27934205532073975\n",
      "accurancy: 0.5661999583244324\n",
      "Epoch 16, CIFAR-10 Batch 2:  cost: 0.20076173543930054\n",
      "accurancy: 0.5981999039649963\n",
      "Epoch 16, CIFAR-10 Batch 3:  cost: 0.09480881690979004\n",
      "accurancy: 0.6037999391555786\n",
      "Epoch 16, CIFAR-10 Batch 4:  cost: 0.142274409532547\n",
      "accurancy: 0.5689998865127563\n",
      "Epoch 16, CIFAR-10 Batch 5:  cost: 0.1866527497768402\n",
      "accurancy: 0.611599862575531\n",
      "Epoch 17, CIFAR-10 Batch 1:  cost: 0.19886630773544312\n",
      "accurancy: 0.582599937915802\n",
      "Epoch 17, CIFAR-10 Batch 2:  cost: 0.15624132752418518\n",
      "accurancy: 0.6001998782157898\n",
      "Epoch 17, CIFAR-10 Batch 3:  cost: 0.08873781561851501\n",
      "accurancy: 0.5989999175071716\n",
      "Epoch 17, CIFAR-10 Batch 4:  cost: 0.15463197231292725\n",
      "accurancy: 0.5821999311447144\n",
      "Epoch 17, CIFAR-10 Batch 5:  cost: 0.1352437436580658\n",
      "accurancy: 0.6165999174118042\n",
      "Epoch 18, CIFAR-10 Batch 1:  cost: 0.15776364505290985\n",
      "accurancy: 0.5809999108314514\n",
      "Epoch 18, CIFAR-10 Batch 2:  cost: 0.15085700154304504\n",
      "accurancy: 0.6105998754501343\n",
      "Epoch 18, CIFAR-10 Batch 3:  cost: 0.07752451300621033\n",
      "accurancy: 0.6103999018669128\n",
      "Epoch 18, CIFAR-10 Batch 4:  cost: 0.10724051296710968\n",
      "accurancy: 0.6039999127388\n",
      "Epoch 18, CIFAR-10 Batch 5:  cost: 0.13314756751060486\n",
      "accurancy: 0.6133999228477478\n",
      "Epoch 19, CIFAR-10 Batch 1:  cost: 0.10097429901361465\n",
      "accurancy: 0.5943999290466309\n",
      "Epoch 19, CIFAR-10 Batch 2:  cost: 0.12974056601524353\n",
      "accurancy: 0.6149998903274536\n",
      "Epoch 19, CIFAR-10 Batch 3:  cost: 0.06466180086135864\n",
      "accurancy: 0.6053999066352844\n",
      "Epoch 19, CIFAR-10 Batch 4:  cost: 0.05765680968761444\n",
      "accurancy: 0.6171998977661133\n",
      "Epoch 19, CIFAR-10 Batch 5:  cost: 0.09191030263900757\n",
      "accurancy: 0.6147998571395874\n",
      "Epoch 20, CIFAR-10 Batch 1:  cost: 0.071579709649086\n",
      "accurancy: 0.5951999425888062\n",
      "Epoch 20, CIFAR-10 Batch 2:  cost: 0.10385081171989441\n",
      "accurancy: 0.6131998896598816\n"
     ]
    },
    {
     "name": "stdout",
     "output_type": "stream",
     "text": [
      "Epoch 20, CIFAR-10 Batch 3:  cost: 0.05410495400428772\n",
      "accurancy: 0.6033998727798462\n",
      "Epoch 20, CIFAR-10 Batch 4:  cost: 0.06589259207248688\n",
      "accurancy: 0.6159999370574951\n",
      "Epoch 20, CIFAR-10 Batch 5:  cost: 0.06502855569124222\n",
      "accurancy: 0.6147998571395874\n"
     ]
    }
   ],
   "source": [
    "\"\"\"\n",
    "DON'T MODIFY ANYTHING IN THIS CELL\n",
    "\"\"\"\n",
    "save_model_path = './image_classification'\n",
    "\n",
    "print('Training...')\n",
    "with tf.Session() as sess:\n",
    "    # Initializing the variables\n",
    "    sess.run(tf.global_variables_initializer())\n",
    "    \n",
    "    # Training cycle\n",
    "    for epoch in range(epochs):\n",
    "        # Loop over all batches\n",
    "        n_batches = 5\n",
    "        for batch_i in range(1, n_batches + 1):\n",
    "            for batch_features, batch_labels in helper.load_preprocess_training_batch(batch_i, batch_size):\n",
    "                train_neural_network(sess, optimizer, keep_probability, batch_features, batch_labels)\n",
    "            print('Epoch {:>2}, CIFAR-10 Batch {}:  '.format(epoch + 1, batch_i), end='')\n",
    "            print_stats(sess, batch_features, batch_labels, cost, accuracy)\n",
    "            \n",
    "    # Save Model\n",
    "    saver = tf.train.Saver()\n",
    "    save_path = saver.save(sess, save_model_path)"
   ]
  },
  {
   "cell_type": "markdown",
   "metadata": {},
   "source": [
    "# 检查点\n",
    "\n",
    "模型已保存到本地。\n",
    "\n",
    "## 测试模型\n",
    "\n",
    "利用测试数据集测试你的模型。这将是最终的准确率。你的准确率应该高于 50%。如果没达到，请继续调整模型结构和参数。"
   ]
  },
  {
   "cell_type": "code",
   "execution_count": 22,
   "metadata": {},
   "outputs": [
    {
     "name": "stdout",
     "output_type": "stream",
     "text": [
      "INFO:tensorflow:Restoring parameters from ./image_classification\n",
      "Testing Accuracy: 0.6173828125\n",
      "\n"
     ]
    },
    {
     "data": {
      "image/png": "[encoded data removed]",
      "text/plain": [
       "<matplotlib.figure.Figure at 0x7f649eba93c8>"
      ]
     },
     "metadata": {
      "image/png": {
       "height": 319,
       "width": 355
      }
     },
     "output_type": "display_data"
    }
   ],
   "source": [
    "\"\"\"\n",
    "DON'T MODIFY ANYTHING IN THIS CELL\n",
    "\"\"\"\n",
    "%matplotlib inline\n",
    "%config InlineBackend.figure_format = 'retina'\n",
    "\n",
    "import tensorflow as tf\n",
    "import pickle\n",
    "import helper\n",
    "import random\n",
    "\n",
    "# Set batch size if not already set\n",
    "try:\n",
    "    if batch_size:\n",
    "        pass\n",
    "except NameError:\n",
    "    batch_size = 64\n",
    "\n",
    "save_model_path = './image_classification'\n",
    "n_samples = 4\n",
    "top_n_predictions = 3\n",
    "\n",
    "def test_model():\n",
    "    \"\"\"\n",
    "    Test the saved model against the test dataset\n",
    "    \"\"\"\n",
    "\n",
    "    test_features, test_labels = pickle.load(open('preprocess_test.p', mode='rb'))\n",
    "    loaded_graph = tf.Graph()\n",
    "\n",
    "    with tf.Session(graph=loaded_graph) as sess:\n",
    "        # Load model\n",
    "        loader = tf.train.import_meta_graph(save_model_path + '.meta')\n",
    "        loader.restore(sess, save_model_path)\n",
    "\n",
    "        # Get Tensors from loaded model\n",
    "        loaded_x = loaded_graph.get_tensor_by_name('x:0')\n",
    "        loaded_y = loaded_graph.get_tensor_by_name('y:0')\n",
    "        loaded_keep_prob = loaded_graph.get_tensor_by_name('keep_prob:0')\n",
    "        loaded_logits = loaded_graph.get_tensor_by_name('logits:0')\n",
    "        loaded_acc = loaded_graph.get_tensor_by_name('accuracy:0')\n",
    "        \n",
    "        # Get accuracy in batches for memory limitations\n",
    "        test_batch_acc_total = 0\n",
    "        test_batch_count = 0\n",
    "        \n",
    "        for test_feature_batch, test_label_batch in helper.batch_features_labels(test_features, test_labels, batch_size):\n",
    "            test_batch_acc_total += sess.run(\n",
    "                loaded_acc,\n",
    "                feed_dict={loaded_x: test_feature_batch, loaded_y: test_label_batch, loaded_keep_prob: 1.0})\n",
    "            test_batch_count += 1\n",
    "\n",
    "        print('Testing Accuracy: {}\\n'.format(test_batch_acc_total/test_batch_count))\n",
    "\n",
    "        # Print Random Samples\n",
    "        random_test_features, random_test_labels = tuple(zip(*random.sample(list(zip(test_features, test_labels)), n_samples)))\n",
    "        random_test_predictions = sess.run(\n",
    "            tf.nn.top_k(tf.nn.softmax(loaded_logits), top_n_predictions),\n",
    "            feed_dict={loaded_x: random_test_features, loaded_y: random_test_labels, loaded_keep_prob: 1.0})\n",
    "        helper.display_image_predictions(random_test_features, random_test_labels, random_test_predictions)\n",
    "\n",
    "\n",
    "test_model()"
   ]
  },
  {
   "cell_type": "markdown",
   "metadata": {},
   "source": [
    "## 为何准确率只有50-80%？\n",
    "\n",
    "你可能想问，为何准确率不能更高了？首先，对于简单的 CNN 网络来说，50% 已经不低了。纯粹猜测的准确率为10%。但是，你可能注意到有人的准确率[远远超过 80%](http://rodrigob.github.io/are_we_there_yet/build/classification_datasets_results.html#43494641522d3130)。这是因为我们还没有介绍所有的神经网络知识。我们还需要掌握一些其他技巧。\n",
    "\n",
    "## 提交项目\n",
    "\n",
    "提交项目时，确保先运行所有单元，然后再保存记事本。将 notebook 文件另存为“dlnd_image_classification.ipynb”，再在目录 \"File\" -> \"Download as\" 另存为 HTML 格式。请在提交的项目中包含 “helper.py” 和 “problem_unittests.py” 文件。\n"
   ]
  }
 ],
 "metadata": {
  "kernelspec": {
   "display_name": "Python 3",
   "language": "python",
   "name": "python3"
  },
  "language_info": {
   "codemirror_mode": {
    "name": "ipython",
    "version": 3
   },
   "file_extension": ".py",
   "mimetype": "text/x-python",
   "name": "python",
   "nbconvert_exporter": "python",
   "pygments_lexer": "ipython3",
   "version": "3.5.3"
  }
 },
 "nbformat": 4,
 "nbformat_minor": 1
}
